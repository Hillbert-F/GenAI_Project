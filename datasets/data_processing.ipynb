{
 "cells": [
  {
   "cell_type": "code",
   "execution_count": 1,
   "metadata": {},
   "outputs": [
    {
     "name": "stdout",
     "output_type": "stream",
     "text": [
      "Successfully loaded 61373 data\n"
     ]
    }
   ],
   "source": [
    "import json\n",
    "file_path = \"file-000000000054.json\"\n",
    "\n",
    "data = []\n",
    "with open(file_path, \"r\", encoding=\"utf-8\") as f:\n",
    "    for line in f:\n",
    "        try:\n",
    "            obj = json.loads(line.strip()) \n",
    "            data.append(obj)\n",
    "        except json.JSONDecodeError as e:\n",
    "            print(f\"Skipping: {line.strip()} because: {e}\")\n",
    "\n",
    "print(f\"Successfully loaded {len(data)} data\")"
   ]
  },
  {
   "cell_type": "code",
   "execution_count": 2,
   "metadata": {},
   "outputs": [
    {
     "name": "stdout",
     "output_type": "stream",
     "text": [
      "61240 data remaining after filtering\n",
      "Save filtered data to 'filtered_data.json'\n"
     ]
    }
   ],
   "source": [
    "keywords = [\"import\", \"def\", \"class\", \"return\", \"if\", \"else\"]\n",
    "filtered_data = [item for item in data if any(keyword in item.get(\"content\", \"\") for keyword in keywords)]\n",
    "print(f\"{len(filtered_data)} data remaining after filtering\")\n",
    "\n",
    "\n",
    "with open(\"filtered_data.json\", \"w\", encoding=\"utf-8\") as f:\n",
    "    json.dump(filtered_data, f, ensure_ascii=False, indent=4)\n",
    "print(\"Save filtered data to 'filtered_data.json'\")"
   ]
  },
  {
   "cell_type": "code",
   "execution_count": 3,
   "metadata": {},
   "outputs": [
    {
     "name": "stdout",
     "output_type": "stream",
     "text": [
      "Filtered data saved! Total items: 1536\n"
     ]
    }
   ],
   "source": [
    "import json\n",
    "\n",
    "# Match keywords related to Transformer and deep learning related content\n",
    "keywords = [\n",
    "    \"Transformer\", \"self-attention\", \"encoder\", \"decoder\", \"attention mechanism\",\n",
    "    \"multi-head attention\", \"NLP\", \"machine learning\", \"deep learning\", \"PyTorch\"\n",
    "]\n",
    "\n",
    "def filter_by_keywords(data, keywords):\n",
    "    filtered_data1 = []\n",
    "    for item in data:\n",
    "        content = item.get(\"content\", \"\").lower()\n",
    "        if any(keyword.lower() in content for keyword in keywords):\n",
    "            filtered_data1.append(item)\n",
    "    return filtered_data1\n",
    "\n",
    "with open(\"filtered_data.json\", \"r\", encoding=\"utf-8\") as f:\n",
    "    data = json.load(f)\n",
    "\n",
    "filtered_data1 = filter_by_keywords(data, keywords)\n",
    "with open(\"specified_data.json\", \"w\", encoding=\"utf-8\") as f:\n",
    "    json.dump(filtered_data1, f, ensure_ascii=False, indent=4)\n",
    "\n",
    "print(f\"Filtered data saved! Total items: {len(filtered_data1)}\")"
   ]
  },
  {
   "cell_type": "code",
   "execution_count": 5,
   "metadata": {},
   "outputs": [
    {
     "name": "stdout",
     "output_type": "stream",
     "text": [
      "Length of train dataset: 1228\n",
      "Length of validation dataset: 308\n"
     ]
    }
   ],
   "source": [
    "from sklearn.model_selection import train_test_split\n",
    "\n",
    "# Spilt data in 8:2\n",
    "train_data, val_data = train_test_split(filtered_data1, test_size=0.2, random_state=42)\n",
    "\n",
    "# Save train and validation data\n",
    "with open(\"train_data.json\", \"w\", encoding=\"utf-8\") as f:\n",
    "    json.dump(train_data, f, ensure_ascii=False, indent=4)\n",
    "\n",
    "with open(\"val_data.json\", \"w\", encoding=\"utf-8\") as f:\n",
    "    json.dump(val_data, f, ensure_ascii=False, indent=4)\n",
    "\n",
    "print(f\"Length of train dataset: {len(train_data)}\")\n",
    "print(f\"Length of validation dataset: {len(val_data)}\")"
   ]
  }
 ],
 "metadata": {
  "kernelspec": {
   "display_name": "Python 3",
   "language": "python",
   "name": "python3"
  },
  "language_info": {
   "codemirror_mode": {
    "name": "ipython",
    "version": 3
   },
   "file_extension": ".py",
   "mimetype": "text/x-python",
   "name": "python",
   "nbconvert_exporter": "python",
   "pygments_lexer": "ipython3",
   "version": "3.12.0"
  }
 },
 "nbformat": 4,
 "nbformat_minor": 2
}
